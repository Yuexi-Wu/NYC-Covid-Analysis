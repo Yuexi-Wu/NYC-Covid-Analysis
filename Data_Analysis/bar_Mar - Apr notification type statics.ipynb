{
 "cells": [
  {
   "cell_type": "code",
   "execution_count": 72,
   "metadata": {},
   "outputs": [],
   "source": [
    "import numpy as np\n",
    "import pandas as pd\n",
    "import matplotlib.pyplot as plt# Matlab-style plotting\n",
    "from sodapy import Socrata"
   ]
  },
  {
   "cell_type": "code",
   "execution_count": 73,
   "metadata": {},
   "outputs": [
    {
     "name": "stderr",
     "output_type": "stream",
     "text": [
      "WARNING:root:Requests made without an app_token will be subject to strict throttling limits.\n"
     ]
    },
    {
     "name": "stdout",
     "output_type": "stream",
     "text": [
      "<class 'pandas.core.frame.DataFrame'>\n",
      "RangeIndex: 16890 entries, 0 to 16889\n",
      "Data columns (total 5 columns):\n",
      "date_and_time         16890 non-null object\n",
      "email_body            16366 non-null object\n",
      "notification_title    16890 non-null object\n",
      "notificationtype      16890 non-null object\n",
      "record_id             16890 non-null object\n",
      "dtypes: object(5)\n",
      "memory usage: 659.8+ KB\n"
     ]
    }
   ],
   "source": [
    "client = Socrata(\"data.cityofnewyork.us\", None)\n",
    "results = client.get_all(\"8vv7-7wx3\")\n",
    "\n",
    "# Convert to pandas DataFrame\n",
    "emc_df = pd.DataFrame.from_records(results)\n",
    "emc_df.info()"
   ]
  },
  {
   "cell_type": "code",
   "execution_count": 74,
   "metadata": {},
   "outputs": [],
   "source": [
    "emc_df.drop(columns = ['email_body'], axis = 1, inplace=True)\n",
    "emc_df.duplicated(keep = \"first\")\n",
    "emc_df['notificationtype'] = emc_df['notificationtype'].astype('category')\n",
    "emc_df['date_and_time'] = pd.to_datetime(emc_df['date_and_time'])\n",
    "emc_df['date_and_time'] = emc_df['date_and_time'].dt.date"
   ]
  },
  {
   "cell_type": "code",
   "execution_count": 75,
   "metadata": {},
   "outputs": [],
   "source": [
    "#delete blank\n",
    "emc_df[\"notification_title\"]=emc_df[\"notification_title\"].apply(lambda x: np.NaN if x== \"[blank]\" else x)"
   ]
  },
  {
   "cell_type": "code",
   "execution_count": 76,
   "metadata": {},
   "outputs": [],
   "source": [
    "# only take data after 2020-3-2\n",
    "import datetime\n",
    "import time\n",
    "str='2020-03-02'\n",
    "d=datetime.date(*map(int,str.split('-')))\n",
    "\n",
    "emc_df = emc_df[ emc_df['date_and_time'].apply(lambda x: x > d)]\n",
    "emc_df.rename(columns ={'date_and_time': 'Date'}, inplace = True )\n"
   ]
  },
  {
   "cell_type": "code",
   "execution_count": 77,
   "metadata": {
    "scrolled": true
   },
   "outputs": [
    {
     "name": "stdout",
     "output_type": "stream",
     "text": [
      "              notificationtype  totalcount\n",
      "0            Aerial (Fly-Over)          19\n",
      "1           Drills / Exercises           0\n",
      "2                Environmental          29\n",
      "3                         Fire           9\n",
      "4               Infrastructure           0\n",
      "5      Mass Transit Disruption          43\n",
      "6     Mass Transit Restoration          30\n",
      "7                Missing Adult          19\n",
      "8   Missing Child / Adolescent           2\n",
      "9                      Parking           6\n",
      "10            Public Awareness          17\n",
      "11               Public Health         117\n",
      "12                Road Closure         179\n",
      "13         School Notification           5\n",
      "14                  Structural           1\n",
      "15                     Utility          18\n",
      "16                     Weather          51\n"
     ]
    }
   ],
   "source": [
    "emc_type_totalcount_df = emc_df.groupby(['notificationtype'])['record_id'].count().reset_index(name = 'totalcount')\n",
    "print(emc_type_totalcount_df)"
   ]
  },
  {
   "cell_type": "code",
   "execution_count": 78,
   "metadata": {},
   "outputs": [
    {
     "data": {
      "image/png": "[encoded data removed]",
      "text/plain": [
       "<Figure size 432x288 with 1 Axes>"
      ]
     },
     "metadata": {},
     "output_type": "display_data"
    }
   ],
   "source": [
    "emc_type_totalcount_df.plot(kind='bar')\n",
    "# 柱子的宽度\n",
    "width = 0.35\n",
    "height = 1\n",
    "y_data = emc_type_totalcount_df.totalcount\n",
    "x_labels = [i for i in emc_type_totalcount_df.notificationtype]\n",
    "# 绘制柱状图, 每根柱子的颜色为紫罗兰色\n",
    "plt.bar(range(len(x_labels)),y_data,tick_label= x_labels, color=\"#87CEFA\")\n",
    "# 设置横轴标签\n",
    "plt.xlabel('notification type')\n",
    "# 设置纵轴标签\n",
    "plt.ylabel('notification number')\n",
    "# 添加标题\n",
    "plt.title('Mar - Apr notification type statics')\n",
    "plt.legend(loc=\"upper right\")\n",
    "plt.show()"
   ]
  },
  {
   "cell_type": "code",
   "execution_count": null,
   "metadata": {},
   "outputs": [],
   "source": []
  }
 ],
 "metadata": {
  "kernelspec": {
   "display_name": "Python 3",
   "language": "python",
   "name": "python3"
  },
  "language_info": {
   "codemirror_mode": {
    "name": "ipython",
    "version": 3
   },
   "file_extension": ".py",
   "mimetype": "text/x-python",
   "name": "python",
   "nbconvert_exporter": "python",
   "pygments_lexer": "ipython3",
   "version": "3.6.5"
  }
 },
 "nbformat": 4,
 "nbformat_minor": 2
}
