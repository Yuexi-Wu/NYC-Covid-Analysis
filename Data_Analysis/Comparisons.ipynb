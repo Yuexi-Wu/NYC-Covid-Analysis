{
 "cells": [
  {
   "cell_type": "code",
   "execution_count": 1,
   "metadata": {},
   "outputs": [],
   "source": [
    "import numpy as np\n",
    "import pandas as pd\n",
    "import matplotlib.pyplot as plt\n",
    "from sodapy import Socrata"
   ]
  },
  {
   "cell_type": "code",
   "execution_count": 2,
   "metadata": {},
   "outputs": [
    {
     "name": "stderr",
     "output_type": "stream",
     "text": [
      "WARNING:root:Requests made without an app_token will be subject to strict throttling limits.\n"
     ]
    },
    {
     "name": "stdout",
     "output_type": "stream",
     "text": [
      "<class 'pandas.core.frame.DataFrame'>\n",
      "RangeIndex: 16950 entries, 0 to 16949\n",
      "Data columns (total 5 columns):\n",
      "date_and_time         16950 non-null object\n",
      "email_body            16422 non-null object\n",
      "notification_title    16950 non-null object\n",
      "notificationtype      16950 non-null object\n",
      "record_id             16950 non-null object\n",
      "dtypes: object(5)\n",
      "memory usage: 662.2+ KB\n"
     ]
    }
   ],
   "source": [
    "client = Socrata(\"data.cityofnewyork.us\", None)\n",
    "results = client.get_all(\"8vv7-7wx3\")\n",
    "\n",
    "emc_df = pd.DataFrame.from_records(results)\n",
    "emc_df.info()"
   ]
  },
  {
   "cell_type": "code",
   "execution_count": 3,
   "metadata": {},
   "outputs": [],
   "source": [
    "emc_df[\"email_body\"]=emc_df[\"email_body\"].apply(lambda x: np.NaN if x== \"[blank]\" else x)\n",
    "emc_df = emc_df.dropna()\n",
    "emc_df.duplicated(keep = \"first\")\n",
    "emc_df['notificationtype'] = emc_df['notificationtype'].astype('category')\n",
    "emc_df['date_and_time'] = pd.to_datetime(emc_df['date_and_time'])\n",
    "emc_df['date_and_time'] = emc_df['date_and_time'].dt.date"
   ]
  },
  {
   "cell_type": "code",
   "execution_count": 4,
   "metadata": {},
   "outputs": [],
   "source": [
    "import datetime\n",
    "import time\n",
    "start1='2019-01-01'\n",
    "end1='2019-04-30'\n",
    "start_date1=datetime.date(*map(int,start1.split('-')))\n",
    "end_date1=datetime.date(*map(int,end1.split('-')))\n",
    "\n",
    "start2='2020-01-01'\n",
    "end2='2020-05-07'\n",
    "start_date2=datetime.date(*map(int,start2.split('-')))\n",
    "end_date2=datetime.date(*map(int,end2.split('-')))\n",
    "\n",
    "df_19 = emc_df[emc_df['date_and_time'].apply(lambda x: x > start_date1 and x < end_date1)]\n",
    "df_20 = emc_df[emc_df['date_and_time'].apply(lambda x: x > start_date2 and x < end_date2)]"
   ]
  },
  {
   "cell_type": "code",
   "execution_count": 5,
   "metadata": {},
   "outputs": [],
   "source": [
    "counts_19 = df_19.groupby(['notificationtype'])['record_id'].count().reset_index(name='total_count')\n",
    "counts_20 = df_20.groupby(['notificationtype'])['record_id'].count().reset_index(name='total_count')"
   ]
  },
  {
   "cell_type": "code",
   "execution_count": 6,
   "metadata": {},
   "outputs": [],
   "source": [
    "counts_19 = counts_19.loc[lambda counts_20: counts_20['total_count'] > 0]\n",
    "counts_20 = counts_20.loc[lambda counts_20: counts_20['total_count'] > 0]\n",
    "counts_19.rename(columns={'total_count':'total_count_19'}, inplace=True)\n",
    "counts_20.rename(columns={'total_count':'total_count_20'}, inplace=True)"
   ]
  },
  {
   "cell_type": "code",
   "execution_count": 7,
   "metadata": {},
   "outputs": [],
   "source": [
    "join_1920 = counts_20.join(counts_19.set_index('notificationtype'), on='notificationtype')\n",
    "join_1920['total_count_19'].fillna(0, inplace = True)"
   ]
  },
  {
   "cell_type": "code",
   "execution_count": 8,
   "metadata": {},
   "outputs": [
    {
     "data": {
      "text/html": [
       "<div>\n",
       "<style scoped>\n",
       "    .dataframe tbody tr th:only-of-type {\n",
       "        vertical-align: middle;\n",
       "    }\n",
       "\n",
       "    .dataframe tbody tr th {\n",
       "        vertical-align: top;\n",
       "    }\n",
       "\n",
       "    .dataframe thead th {\n",
       "        text-align: right;\n",
       "    }\n",
       "</style>\n",
       "<table border=\"1\" class=\"dataframe\">\n",
       "  <thead>\n",
       "    <tr style=\"text-align: right;\">\n",
       "      <th></th>\n",
       "      <th>notificationtype</th>\n",
       "      <th>total_count_20</th>\n",
       "      <th>total_count_19</th>\n",
       "      <th>difference</th>\n",
       "    </tr>\n",
       "  </thead>\n",
       "  <tbody>\n",
       "    <tr>\n",
       "      <th>1</th>\n",
       "      <td>Drills / Exercises</td>\n",
       "      <td>1</td>\n",
       "      <td>6.0</td>\n",
       "      <td>-5.0</td>\n",
       "    </tr>\n",
       "    <tr>\n",
       "      <th>2</th>\n",
       "      <td>Environmental</td>\n",
       "      <td>47</td>\n",
       "      <td>40.0</td>\n",
       "      <td>7.0</td>\n",
       "    </tr>\n",
       "    <tr>\n",
       "      <th>3</th>\n",
       "      <td>Fire</td>\n",
       "      <td>24</td>\n",
       "      <td>36.0</td>\n",
       "      <td>-12.0</td>\n",
       "    </tr>\n",
       "    <tr>\n",
       "      <th>5</th>\n",
       "      <td>Mass Transit Disruption</td>\n",
       "      <td>122</td>\n",
       "      <td>111.0</td>\n",
       "      <td>11.0</td>\n",
       "    </tr>\n",
       "    <tr>\n",
       "      <th>6</th>\n",
       "      <td>Mass Transit Restoration</td>\n",
       "      <td>93</td>\n",
       "      <td>85.0</td>\n",
       "      <td>8.0</td>\n",
       "    </tr>\n",
       "    <tr>\n",
       "      <th>7</th>\n",
       "      <td>Missing Adult</td>\n",
       "      <td>55</td>\n",
       "      <td>59.0</td>\n",
       "      <td>-4.0</td>\n",
       "    </tr>\n",
       "    <tr>\n",
       "      <th>8</th>\n",
       "      <td>Missing Child / Adolescent</td>\n",
       "      <td>8</td>\n",
       "      <td>12.0</td>\n",
       "      <td>-4.0</td>\n",
       "    </tr>\n",
       "    <tr>\n",
       "      <th>9</th>\n",
       "      <td>Parking</td>\n",
       "      <td>8</td>\n",
       "      <td>3.0</td>\n",
       "      <td>5.0</td>\n",
       "    </tr>\n",
       "    <tr>\n",
       "      <th>11</th>\n",
       "      <td>Public Health</td>\n",
       "      <td>115</td>\n",
       "      <td>0.0</td>\n",
       "      <td>115.0</td>\n",
       "    </tr>\n",
       "    <tr>\n",
       "      <th>12</th>\n",
       "      <td>Road Closure</td>\n",
       "      <td>567</td>\n",
       "      <td>395.0</td>\n",
       "      <td>172.0</td>\n",
       "    </tr>\n",
       "    <tr>\n",
       "      <th>13</th>\n",
       "      <td>School Notification</td>\n",
       "      <td>6</td>\n",
       "      <td>8.0</td>\n",
       "      <td>-2.0</td>\n",
       "    </tr>\n",
       "    <tr>\n",
       "      <th>14</th>\n",
       "      <td>Structural</td>\n",
       "      <td>1</td>\n",
       "      <td>0.0</td>\n",
       "      <td>1.0</td>\n",
       "    </tr>\n",
       "    <tr>\n",
       "      <th>15</th>\n",
       "      <td>Utility</td>\n",
       "      <td>48</td>\n",
       "      <td>40.0</td>\n",
       "      <td>8.0</td>\n",
       "    </tr>\n",
       "    <tr>\n",
       "      <th>16</th>\n",
       "      <td>Weather</td>\n",
       "      <td>70</td>\n",
       "      <td>60.0</td>\n",
       "      <td>10.0</td>\n",
       "    </tr>\n",
       "  </tbody>\n",
       "</table>\n",
       "</div>"
      ],
      "text/plain": [
       "              notificationtype  total_count_20  total_count_19  difference\n",
       "1           Drills / Exercises               1             6.0        -5.0\n",
       "2                Environmental              47            40.0         7.0\n",
       "3                         Fire              24            36.0       -12.0\n",
       "5      Mass Transit Disruption             122           111.0        11.0\n",
       "6     Mass Transit Restoration              93            85.0         8.0\n",
       "7                Missing Adult              55            59.0        -4.0\n",
       "8   Missing Child / Adolescent               8            12.0        -4.0\n",
       "9                      Parking               8             3.0         5.0\n",
       "11               Public Health             115             0.0       115.0\n",
       "12                Road Closure             567           395.0       172.0\n",
       "13         School Notification               6             8.0        -2.0\n",
       "14                  Structural               1             0.0         1.0\n",
       "15                     Utility              48            40.0         8.0\n",
       "16                     Weather              70            60.0        10.0"
      ]
     },
     "execution_count": 8,
     "metadata": {},
     "output_type": "execute_result"
    }
   ],
   "source": [
    "join_1920['difference'] = join_1920['total_count_20'] - join_1920['total_count_19']\n",
    "join_1920 = join_1920[join_1920[\"difference\"].apply(lambda x : x != 0)]\n",
    "join_1920"
   ]
  },
  {
   "cell_type": "code",
   "execution_count": 11,
   "metadata": {},
   "outputs": [
    {
     "data": {
      "text/plain": [
       "<matplotlib.axes._subplots.AxesSubplot at 0x107840a20>"
      ]
     },
     "execution_count": 11,
     "metadata": {},
     "output_type": "execute_result"
    },
    {
     "data": {
      "image/png": "[encoded data removed]",
      "text/plain": [
       "<Figure size 1440x720 with 1 Axes>"
      ]
     },
     "metadata": {
      "needs_background": "light"
     },
     "output_type": "display_data"
    }
   ],
   "source": [
    "join_1920.plot(x=\"notificationtype\", y=[\"total_count_19\", \"total_count_20\"], kind=\"bar\",figsize=(20,10),fontsize=15)"
   ]
  },
  {
   "cell_type": "code",
   "execution_count": 13,
   "metadata": {},
   "outputs": [],
   "source": [
    "start_time='2020-02-28'\n",
    "start_date=datetime.date(*map(int,start_time.split('-')))\n",
    "df_start = emc_df[emc_df['date_and_time'].apply(lambda x: x > start_date)]\n",
    "df_health = df_start[df_start[\"notificationtype\"].apply(lambda x : x == \"Public Health\")]\n",
    "words_list = ['COVID19','COVID-19','Coronavirus','COVID']\n",
    "covid = df_health[df_health['notification_title'].str.contains('|'.join(words_list))]"
   ]
  },
  {
   "cell_type": "code",
   "execution_count": 14,
   "metadata": {},
   "outputs": [
    {
     "name": "stderr",
     "output_type": "stream",
     "text": [
      "/Users/yuexi/anaconda3/lib/python3.7/site-packages/ipykernel_launcher.py:1: SettingWithCopyWarning: \n",
      "A value is trying to be set on a copy of a slice from a DataFrame.\n",
      "Try using .loc[row_indexer,col_indexer] = value instead\n",
      "\n",
      "See the caveats in the documentation: http://pandas.pydata.org/pandas-docs/stable/indexing.html#indexing-view-versus-copy\n",
      "  \"\"\"Entry point for launching an IPython kernel.\n"
     ]
    }
   ],
   "source": [
    "covid['date_and_time'] = pd.to_datetime(covid['date_and_time']) - pd.to_timedelta(7, unit='d')\n",
    "covid_by_week = covid.groupby([pd.Grouper(key='date_and_time', freq='W-MON')])['record_id'].count().reset_index().sort_values('date_and_time')"
   ]
  },
  {
   "cell_type": "code",
   "execution_count": 15,
   "metadata": {},
   "outputs": [],
   "source": [
    "nyc_case_hosp = pd.read_csv('https://raw.githubusercontent.com/nychealth/coronavirus-data/master/case-hosp-death.csv')\n",
    "\n",
    "nyc_case_hosp.drop(columns= ['HOSPITALIZED_COUNT', 'DEATH_COUNT'],inplace=True)\n",
    "nyc_case_hosp.rename(columns= {'DATE_OF_INTEREST':'Date', 'CASE_COUNT':'Newcase'}, inplace = True)\n",
    "nyc_case_hosp['Date'] = pd.to_datetime(nyc_case_hosp['Date'])\n",
    "nyc_case_hosp['Date'] = nyc_case_hosp['Date'].dt.date\n",
    "df_confirmed_case = pd.DataFrame(columns=['date', 'case'])"
   ]
  },
  {
   "cell_type": "code",
   "execution_count": 16,
   "metadata": {},
   "outputs": [],
   "source": [
    "df_confirmed_case = pd.DataFrame(columns=['date_and_time', 'case'])\n",
    "for i in range(len(nyc_case_hosp)):\n",
    "    if i == 0:\n",
    "        df_confirmed_case = df_confirmed_case.append(pd.DataFrame({'date_and_time':[nyc_case_hosp['Date'][i]],'case':[nyc_case_hosp['Newcase'][i]]}),ignore_index=True)\n",
    "    else:\n",
    "        confirmed_case = df_confirmed_case['case'][i-1] + nyc_case_hosp['Newcase'][i]\n",
    "        df_confirmed_case = df_confirmed_case.append(pd.DataFrame({'date_and_time':[nyc_case_hosp['Date'][i]],'case':[confirmed_case]}),ignore_index=True)"
   ]
  },
  {
   "cell_type": "code",
   "execution_count": 18,
   "metadata": {},
   "outputs": [],
   "source": [
    "df_confirmed_case['date_and_time'] = pd.to_datetime(df_confirmed_case['date_and_time']) - pd.to_timedelta(7, unit='d')\n",
    "confirm_by_week = df_confirmed_case.groupby([pd.Grouper(key='date_and_time', freq='W-MON')])['case'].sum().reset_index().sort_values('date_and_time')"
   ]
  },
  {
   "cell_type": "code",
   "execution_count": 19,
   "metadata": {},
   "outputs": [
    {
     "data": {
      "text/html": [
       "<div>\n",
       "<style scoped>\n",
       "    .dataframe tbody tr th:only-of-type {\n",
       "        vertical-align: middle;\n",
       "    }\n",
       "\n",
       "    .dataframe tbody tr th {\n",
       "        vertical-align: top;\n",
       "    }\n",
       "\n",
       "    .dataframe thead th {\n",
       "        text-align: right;\n",
       "    }\n",
       "</style>\n",
       "<table border=\"1\" class=\"dataframe\">\n",
       "  <thead>\n",
       "    <tr style=\"text-align: right;\">\n",
       "      <th></th>\n",
       "      <th>date_and_time</th>\n",
       "      <th>notfication_count</th>\n",
       "    </tr>\n",
       "  </thead>\n",
       "  <tbody>\n",
       "    <tr>\n",
       "      <th>0</th>\n",
       "      <td>2020-03-02</td>\n",
       "      <td>4</td>\n",
       "    </tr>\n",
       "    <tr>\n",
       "      <th>1</th>\n",
       "      <td>2020-03-09</td>\n",
       "      <td>9</td>\n",
       "    </tr>\n",
       "    <tr>\n",
       "      <th>2</th>\n",
       "      <td>2020-03-16</td>\n",
       "      <td>14</td>\n",
       "    </tr>\n",
       "    <tr>\n",
       "      <th>3</th>\n",
       "      <td>2020-03-23</td>\n",
       "      <td>16</td>\n",
       "    </tr>\n",
       "    <tr>\n",
       "      <th>4</th>\n",
       "      <td>2020-03-30</td>\n",
       "      <td>16</td>\n",
       "    </tr>\n",
       "    <tr>\n",
       "      <th>5</th>\n",
       "      <td>2020-04-06</td>\n",
       "      <td>20</td>\n",
       "    </tr>\n",
       "    <tr>\n",
       "      <th>6</th>\n",
       "      <td>2020-04-13</td>\n",
       "      <td>10</td>\n",
       "    </tr>\n",
       "    <tr>\n",
       "      <th>7</th>\n",
       "      <td>2020-04-20</td>\n",
       "      <td>7</td>\n",
       "    </tr>\n",
       "    <tr>\n",
       "      <th>8</th>\n",
       "      <td>2020-04-27</td>\n",
       "      <td>13</td>\n",
       "    </tr>\n",
       "    <tr>\n",
       "      <th>9</th>\n",
       "      <td>2020-05-04</td>\n",
       "      <td>3</td>\n",
       "    </tr>\n",
       "  </tbody>\n",
       "</table>\n",
       "</div>"
      ],
      "text/plain": [
       "  date_and_time  notfication_count\n",
       "0    2020-03-02                  4\n",
       "1    2020-03-09                  9\n",
       "2    2020-03-16                 14\n",
       "3    2020-03-23                 16\n",
       "4    2020-03-30                 16\n",
       "5    2020-04-06                 20\n",
       "6    2020-04-13                 10\n",
       "7    2020-04-20                  7\n",
       "8    2020-04-27                 13\n",
       "9    2020-05-04                  3"
      ]
     },
     "execution_count": 19,
     "metadata": {},
     "output_type": "execute_result"
    }
   ],
   "source": [
    "covid_by_week.rename(columns={'record_id':'count'}, inplace=True)\n",
    "covid_by_week.rename(columns={'count':'notfication_count'}, inplace=True)\n",
    "covid_by_week"
   ]
  },
  {
   "cell_type": "code",
   "execution_count": 20,
   "metadata": {},
   "outputs": [
    {
     "data": {
      "text/html": [
       "<div>\n",
       "<style scoped>\n",
       "    .dataframe tbody tr th:only-of-type {\n",
       "        vertical-align: middle;\n",
       "    }\n",
       "\n",
       "    .dataframe tbody tr th {\n",
       "        vertical-align: top;\n",
       "    }\n",
       "\n",
       "    .dataframe thead th {\n",
       "        text-align: right;\n",
       "    }\n",
       "</style>\n",
       "<table border=\"1\" class=\"dataframe\">\n",
       "  <thead>\n",
       "    <tr style=\"text-align: right;\">\n",
       "      <th></th>\n",
       "      <th>date_and_time</th>\n",
       "      <th>case</th>\n",
       "      <th>notfication_count</th>\n",
       "    </tr>\n",
       "  </thead>\n",
       "  <tbody>\n",
       "    <tr>\n",
       "      <th>0</th>\n",
       "      <td>2020-02-24</td>\n",
       "      <td>5</td>\n",
       "      <td>NaN</td>\n",
       "    </tr>\n",
       "    <tr>\n",
       "      <th>1</th>\n",
       "      <td>2020-03-02</td>\n",
       "      <td>221</td>\n",
       "      <td>4.0</td>\n",
       "    </tr>\n",
       "    <tr>\n",
       "      <th>2</th>\n",
       "      <td>2020-03-09</td>\n",
       "      <td>12481</td>\n",
       "      <td>9.0</td>\n",
       "    </tr>\n",
       "    <tr>\n",
       "      <th>3</th>\n",
       "      <td>2020-03-16</td>\n",
       "      <td>121195</td>\n",
       "      <td>14.0</td>\n",
       "    </tr>\n",
       "    <tr>\n",
       "      <th>4</th>\n",
       "      <td>2020-03-23</td>\n",
       "      <td>314522</td>\n",
       "      <td>16.0</td>\n",
       "    </tr>\n",
       "    <tr>\n",
       "      <th>5</th>\n",
       "      <td>2020-03-30</td>\n",
       "      <td>552274</td>\n",
       "      <td>16.0</td>\n",
       "    </tr>\n",
       "    <tr>\n",
       "      <th>6</th>\n",
       "      <td>2020-04-06</td>\n",
       "      <td>790133</td>\n",
       "      <td>20.0</td>\n",
       "    </tr>\n",
       "    <tr>\n",
       "      <th>7</th>\n",
       "      <td>2020-04-13</td>\n",
       "      <td>962135</td>\n",
       "      <td>10.0</td>\n",
       "    </tr>\n",
       "    <tr>\n",
       "      <th>8</th>\n",
       "      <td>2020-04-20</td>\n",
       "      <td>1099280</td>\n",
       "      <td>7.0</td>\n",
       "    </tr>\n",
       "    <tr>\n",
       "      <th>9</th>\n",
       "      <td>2020-04-27</td>\n",
       "      <td>1194907</td>\n",
       "      <td>13.0</td>\n",
       "    </tr>\n",
       "    <tr>\n",
       "      <th>10</th>\n",
       "      <td>2020-05-04</td>\n",
       "      <td>707810</td>\n",
       "      <td>3.0</td>\n",
       "    </tr>\n",
       "  </tbody>\n",
       "</table>\n",
       "</div>"
      ],
      "text/plain": [
       "   date_and_time     case  notfication_count\n",
       "0     2020-02-24        5                NaN\n",
       "1     2020-03-02      221                4.0\n",
       "2     2020-03-09    12481                9.0\n",
       "3     2020-03-16   121195               14.0\n",
       "4     2020-03-23   314522               16.0\n",
       "5     2020-03-30   552274               16.0\n",
       "6     2020-04-06   790133               20.0\n",
       "7     2020-04-13   962135               10.0\n",
       "8     2020-04-20  1099280                7.0\n",
       "9     2020-04-27  1194907               13.0\n",
       "10    2020-05-04   707810                3.0"
      ]
     },
     "execution_count": 20,
     "metadata": {},
     "output_type": "execute_result"
    }
   ],
   "source": [
    "index = covid_by_week['date_and_time']\n",
    "joint = confirm_by_week.join(covid_by_week.set_index('date_and_time'), on='date_and_time')\n",
    "joint"
   ]
  },
  {
   "cell_type": "code",
   "execution_count": 21,
   "metadata": {},
   "outputs": [
    {
     "data": {
      "text/plain": [
       "<matplotlib.legend.Legend at 0x11b77cac8>"
      ]
     },
     "execution_count": 21,
     "metadata": {},
     "output_type": "execute_result"
    },
    {
     "data": {
      "image/png": "[encoded data removed]",
      "text/plain": [
       "<Figure size 1440x720 with 2 Axes>"
      ]
     },
     "metadata": {
      "needs_background": "light"
     },
     "output_type": "display_data"
    }
   ],
   "source": [
    "joint['date_and_time'] = joint['date_and_time'].dt.date\n",
    "axes = joint.plot.bar(rot=0, subplots=True, figsize=(20,10),fontsize=15)\n",
    "axes[1].legend(loc=2)  "
   ]
  },
  {
   "cell_type": "code",
   "execution_count": null,
   "metadata": {},
   "outputs": [],
   "source": []
  }
 ],
 "metadata": {
  "kernelspec": {
   "display_name": "Python 3",
   "language": "python",
   "name": "python3"
  },
  "language_info": {
   "codemirror_mode": {
    "name": "ipython",
    "version": 3
   },
   "file_extension": ".py",
   "mimetype": "text/x-python",
   "name": "python",
   "nbconvert_exporter": "python",
   "pygments_lexer": "ipython3",
   "version": "3.7.3"
  }
 },
 "nbformat": 4,
 "nbformat_minor": 2
}
