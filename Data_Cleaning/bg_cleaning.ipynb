{
 "cells": [
  {
   "cell_type": "code",
   "execution_count": 159,
   "metadata": {
    "colab": {},
    "colab_type": "code",
    "id": "HADwSybR6Anx"
   },
   "outputs": [],
   "source": [
    "import numpy as np\n",
    "import pandas as pd\n",
    "import matplotlib.pyplot as plt# Matlab-style plotting\n",
    "from sodapy import Socrata\n"
   ]
  },
  {
   "cell_type": "code",
   "execution_count": 160,
   "metadata": {},
   "outputs": [
    {
     "name": "stderr",
     "output_type": "stream",
     "text": [
      "WARNING:root:Requests made without an app_token will be subject to strict throttling limits.\n"
     ]
    },
    {
     "name": "stdout",
     "output_type": "stream",
     "text": [
      "<class 'pandas.core.frame.DataFrame'>\n",
      "RangeIndex: 16827 entries, 0 to 16826\n",
      "Data columns (total 5 columns):\n",
      "date_and_time         16827 non-null object\n",
      "email_body            16304 non-null object\n",
      "notification_title    16827 non-null object\n",
      "notificationtype      16827 non-null object\n",
      "record_id             16827 non-null object\n",
      "dtypes: object(5)\n",
      "memory usage: 657.4+ KB\n"
     ]
    }
   ],
   "source": [
    "client = Socrata(\"data.cityofnewyork.us\", None)\n",
    "results = client.get_all(\"8vv7-7wx3\")\n",
    "\n",
    "# Convert to pandas DataFrame\n",
    "emc_df = pd.DataFrame.from_records(results)\n",
    "emc_df.info()"
   ]
  },
  {
   "cell_type": "code",
   "execution_count": 161,
   "metadata": {
    "colab": {
     "base_uri": "https://localhost:8080/",
     "height": 445
    },
    "colab_type": "code",
    "executionInfo": {
     "elapsed": 540,
     "status": "error",
     "timestamp": 1587926961819,
     "user": {
      "displayName": "Stacey Wang",
      "photoUrl": "https://lh3.googleusercontent.com/a-/AOh14GgNl6spRMLC2dREw-ktvPQJa_eyMOdK5mxz8Heh=s64",
      "userId": "16609245874501436849"
     },
     "user_tz": 240
    },
    "id": "4lLfogZb6EsY",
    "outputId": "8eb12bfd-5643-45a2-8e8b-8e8b1d995f79"
   },
   "outputs": [],
   "source": [
    "emc_df.drop(columns = ['email_body'], axis = 1, inplace=True)\n",
    "emc_df.duplicated(keep = \"first\")\n",
    "emc_df['notificationtype'] = emc_df['notificationtype'].astype('category')\n",
    "emc_df['date_and_time'] = pd.to_datetime(emc_df['date_and_time'])\n",
    "emc_df['date_and_time'] = emc_df['date_and_time'].dt.date"
   ]
  },
  {
   "cell_type": "code",
   "execution_count": 162,
   "metadata": {},
   "outputs": [
    {
     "data": {
      "text/plain": [
       "Road Closure                  5148\n",
       "Mass Transit Disruption       2366\n",
       "Missing Adult                 1352\n",
       "Utility                       1320\n",
       "Weather                       1238\n",
       "Public Awareness              1081\n",
       "Environmental                  901\n",
       "Fire                           771\n",
       "Mass Transit Restoration       722\n",
       "Aerial (Fly-Over)              562\n",
       "Public Health                  453\n",
       "Drills / Exercises             316\n",
       "School Notification            207\n",
       "Missing Child / Adolescent     180\n",
       "Parking                        127\n",
       "Structural                      67\n",
       "Infrastructure                  16\n",
       "Name: notificationtype, dtype: int64"
      ]
     },
     "execution_count": 162,
     "metadata": {},
     "output_type": "execute_result"
    }
   ],
   "source": [
    "emc_df.loc[:,'notificationtype'].value_counts()"
   ]
  },
  {
   "cell_type": "code",
   "execution_count": 163,
   "metadata": {},
   "outputs": [
    {
     "data": {
      "text/plain": [
       "[blank]                                                                        1728\n",
       "CSO Advisory (CW)                                                               403\n",
       "CSO Advisory - (Citywide)                                                       131\n",
       "CSO Advisories (CW)                                                              56\n",
       "Intermittent Wind Gusts (CW)                                                     34\n",
       "CSO Advisory                                                                     30\n",
       "Air Quality Health Advisory (CW)                                                 27\n",
       "Traffic Delays - FDR Drive (MN)                                                  19\n",
       "MTA Suspension - A Train (QN)                                                    19\n",
       "Power Outage (SI)                                                                16\n",
       "Power Outage - Middle Village (QN)                                               16\n",
       "MTA Restoration - A Train (QN)                                                   16\n",
       "Power Outage - Hollis (QN)                                                       16\n",
       "Power Outage - Far Rockaway (QN)                                                 16\n",
       "Traffic Delays - Whitestone Bridge (BX/QN)                                       15\n",
       "Traffic Delays - Brooklyn Bridge (BK/MN)                                         15\n",
       "Traffic Delays - Van Wyck Expressway (QN)                                        15\n",
       "Traffic Delays - Lincoln Tunnel (MN)                                             15\n",
       "Traffic Delays - Major Deegan Expressway (BX)                                    15\n",
       "CSO Advisory  (CW)                                                               14\n",
       "MTA Suspension - L Train (BK)                                                    13\n",
       "Road Reopened - Major Deegan Expressway (BX)                                     13\n",
       "Road Closure - Major Deegan Expressway (BX)                                      13\n",
       "Mass Transit Restoration - LIRR (CW)                                             12\n",
       "Traffic Delays - George Washington Bridge (BX/MN)                                12\n",
       "Traffic Delays - George Washington Bridge (MN)                                   12\n",
       "Mass Transit Disruption - LIRR (CW)                                              12\n",
       "MTA Restoration - L Train (BK)                                                   12\n",
       "Traffic Delays - BQE at Cadman Plaza (BK)                                        11\n",
       "LIRR Restoration (CW)                                                            11\n",
       "                                                                               ... \n",
       "Wind Advisory 10/22 (CW)                                                          1\n",
       "High Rise Fire - 2 East 61st Street (MN)                                          1\n",
       "Wind Advisory - 3/3 (CW)                                                          1\n",
       "Traffic Delays - Brooklyn-Queens Expressway (QN/BK)                               1\n",
       "Fireworks Display over Ellis Island - 4/15/14 (BK, MN)                            1\n",
       "Rescheduled - Planned Aircraft Flyover 2/24 (MN)                                  1\n",
       "Traffic Delays - Cross Bronx Expressway & Webster Ave (BX)                        1\n",
       "Road Reopend- BQE at Flushing Ave (BK)                                            1\n",
       "Fireworks - 6/26 - Ft. Totten (QN)                                                1\n",
       "Areal Flood Advisory - 5/15 (CW)                                                  1\n",
       "CSO Advisory - 7/18 (CW)                                                          1\n",
       "Missing Senior - Hania Zynger F/W/94 (BX)                                         1\n",
       "Road Closure -Clearview Expressway - Queens                                       1\n",
       "Warming Centers Opened (Citywide)                                                 1\n",
       "Planned Road Closure - German Steuben Parade 9/21 (MN)                            1\n",
       "NYS Missing Vulnerable Adult Alert - Eric MArtins M/W/77 (CW)                     1\n",
       "Traffic Delays - Verrazano-Narrows Bridge (SI/BK)                                 1\n",
       "Road Reopened - FDR at 72nd Street (MN)                                           1\n",
       "Planned Closure - Henry Hudson Parkway (MN)                                       1\n",
       "Flash Flood Warning - 8/7 (SI)                                                    1\n",
       "Road Reopened - FDR Drive at E 14th St (MN)                                       1\n",
       "Silver Alert - Altagracia Guzman F/H/80 (CW)                                      1\n",
       "W/B Broome St Closure                                                             1\n",
       "Missing Vulnerable Adult - Barbara Ceruti F/B/73 (CW)                             1\n",
       "Two Alarm Fire - Montgomery Street & Bedford Avenue (BK)                          1\n",
       "Silver Alert - John Brockett M/B/69 (CW)                                          1\n",
       "Silver Alert - John Schnell - M/W/69 (BK)                                         1\n",
       "Planned Closures of the Eastbound Belt Pkwy - Mon-Fri Starting 9/15/14 (BK)       1\n",
       "Simulated Explosion - Broadway and 171 Street (MN)                                1\n",
       "Mass Transit Restoration -  B Train (BK/BX/MN)                                    1\n",
       "Name: notification_title, Length: 12056, dtype: int64"
      ]
     },
     "execution_count": 163,
     "metadata": {},
     "output_type": "execute_result"
    }
   ],
   "source": [
    "emc_df.loc[:,'notification_title'].value_counts()"
   ]
  },
  {
   "cell_type": "code",
   "execution_count": 131,
   "metadata": {},
   "outputs": [
    {
     "data": {
      "text/plain": [
       "15099"
      ]
     },
     "execution_count": 131,
     "metadata": {},
     "output_type": "execute_result"
    }
   ],
   "source": [
    "t_df[\"notification_title\"]=t_df[\"notification_title\"].apply(lambda x: np.NaN if x== \"[blank]\" else x)\n",
    "t_df[\"notification_title\"].count()"
   ]
  },
  {
   "cell_type": "code",
   "execution_count": 153,
   "metadata": {},
   "outputs": [
    {
     "name": "stdout",
     "output_type": "stream",
     "text": [
      "1900-01-01\n",
      "2020-04-26\n"
     ]
    }
   ],
   "source": [
    "print(emc_df['date_and_time'].min())\n",
    "print(emc_df['date_and_time'].max())"
   ]
  },
  {
   "cell_type": "code",
   "execution_count": 154,
   "metadata": {
    "colab": {
     "base_uri": "https://localhost:8080/",
     "height": 935
    },
    "colab_type": "code",
    "executionInfo": {
     "elapsed": 1967,
     "status": "ok",
     "timestamp": 1587895551998,
     "user": {
      "displayName": "Stacey Wang",
      "photoUrl": "https://lh3.googleusercontent.com/a-/AOh14GgNl6spRMLC2dREw-ktvPQJa_eyMOdK5mxz8Heh=s64",
      "userId": "16609245874501436849"
     },
     "user_tz": 240
    },
    "id": "s7UYR7LG6W9l",
    "outputId": "afd8356a-e5ab-4db3-8162-9ad3e1aafa2c"
   },
   "outputs": [
    {
     "name": "stdout",
     "output_type": "stream",
     "text": [
      "<class 'pandas.core.frame.DataFrame'>\n",
      "RangeIndex: 54 entries, 0 to 53\n",
      "Data columns (total 2 columns):\n",
      "Date       54 non-null object\n",
      "Newcase    54 non-null int64\n",
      "dtypes: int64(1), object(1)\n",
      "memory usage: 944.0+ bytes\n"
     ]
    }
   ],
   "source": [
    "nyc_case_hosp = pd.read_csv('https://raw.githubusercontent.com/nychealth/coronavirus-data/master/case-hosp-death.csv')\n",
    "nyc_case_hosp.drop(columns= ['HOSPITALIZED_CASE_COUNT', 'DEATH_COUNT'],inplace=True)\n",
    "nyc_case_hosp.rename(columns= {'DATE_OF_INTEREST':'Date', 'NEW_COVID_CASE_COUNT':'Newcase'}, inplace = True)\n",
    "nyc_case_hosp['Date'] = pd.to_datetime(nyc_case_hosp['Date'])\n",
    "nyc_case_hosp['Date'] = nyc_case_hosp['Date'].dt.date\n",
    "nyc_case_hosp.info()"
   ]
  },
  {
   "cell_type": "code",
   "execution_count": 155,
   "metadata": {},
   "outputs": [
    {
     "name": "stdout",
     "output_type": "stream",
     "text": [
      "2020-03-03\n",
      "2020-04-25\n"
     ]
    }
   ],
   "source": [
    "print(nyc_case_hosp['Date'].min())\n",
    "print(nyc_case_hosp['Date'].max())"
   ]
  },
  {
   "cell_type": "code",
   "execution_count": 156,
   "metadata": {},
   "outputs": [],
   "source": [
    "import datetime\n",
    "import time\n",
    "str='2020-03-02'\n",
    "d=datetime.date(*map(int,str.split('-')))\n",
    "\n",
    "emc_df = emc_df[ emc_df['date_and_time'].apply(lambda x: x > d)]\n",
    "emc_df.rename(columns ={'date_and_time': 'Date'}, inplace = True )"
   ]
  },
  {
   "cell_type": "code",
   "execution_count": 157,
   "metadata": {},
   "outputs": [
    {
     "name": "stdout",
     "output_type": "stream",
     "text": [
      "<class 'pandas.core.frame.DataFrame'>\n",
      "RangeIndex: 257 entries, 0 to 256\n",
      "Data columns (total 3 columns):\n",
      "Date                257 non-null object\n",
      "notificationtype    257 non-null category\n",
      "count               257 non-null int64\n",
      "dtypes: category(1), int64(1), object(1)\n",
      "memory usage: 5.1+ KB\n"
     ]
    }
   ],
   "source": [
    "emc_type_count_df = emc_df.groupby(['Date','notificationtype'])['record_id'].count().reset_index(name = 'count')\n",
    "emc_type_count_df.info()"
   ]
  },
  {
   "cell_type": "code",
   "execution_count": 158,
   "metadata": {
    "colab": {
     "base_uri": "https://localhost:8080/",
     "height": 200
    },
    "colab_type": "code",
    "collapsed": true,
    "executionInfo": {
     "elapsed": 694,
     "status": "error",
     "timestamp": 1587926914422,
     "user": {
      "displayName": "Stacey Wang",
      "photoUrl": "https://lh3.googleusercontent.com/a-/AOh14GgNl6spRMLC2dREw-ktvPQJa_eyMOdK5mxz8Heh=s64",
      "userId": "16609245874501436849"
     },
     "user_tz": 240
    },
    "id": "lxtQgg-m6by-",
    "outputId": "d75fc0f3-befa-4c33-afab-fc77882ebc2e"
   },
   "outputs": [
    {
     "name": "stdout",
     "output_type": "stream",
     "text": [
      "           Date  Newcase          notificationtype  count\n",
      "0    2020-03-03        2         Aerial (Fly-Over)      1\n",
      "1    2020-03-03        2   Mass Transit Disruption      1\n",
      "2    2020-03-03        2  Mass Transit Restoration      1\n",
      "3    2020-03-03        2              Road Closure      5\n",
      "4    2020-03-03        2                   Weather      1\n",
      "5    2020-03-04        5             Environmental      1\n",
      "6    2020-03-04        5   Mass Transit Disruption      4\n",
      "7    2020-03-04        5  Mass Transit Restoration      3\n",
      "8    2020-03-04        5             Missing Adult      1\n",
      "9    2020-03-04        5             Public Health      1\n",
      "10   2020-03-04        5              Road Closure      3\n",
      "11   2020-03-04        5                   Utility      1\n",
      "12   2020-03-04        5                   Weather      2\n",
      "13   2020-03-05        3             Public Health      1\n",
      "14   2020-03-05        3              Road Closure      6\n",
      "15   2020-03-06        7   Mass Transit Disruption      2\n",
      "16   2020-03-06        7          Public Awareness      2\n",
      "17   2020-03-06        7              Road Closure      2\n",
      "18   2020-03-06        7                   Utility      1\n",
      "19   2020-03-06        7                   Weather      2\n",
      "20   2020-03-07        7         Aerial (Fly-Over)      2\n",
      "21   2020-03-07        7             Environmental      1\n",
      "22   2020-03-07        7             Missing Adult      1\n",
      "23   2020-03-07        7              Road Closure      9\n",
      "24   2020-03-07        7                   Utility      1\n",
      "25   2020-03-07        7                   Weather      2\n",
      "26   2020-03-08       21   Mass Transit Disruption      1\n",
      "27   2020-03-08       21  Mass Transit Restoration      1\n",
      "28   2020-03-08       21              Road Closure      3\n",
      "29   2020-03-08       21                   Weather      1\n",
      "..          ...      ...                       ...    ...\n",
      "226  2020-04-17     3430          Public Awareness      1\n",
      "227  2020-04-17     3430             Public Health      2\n",
      "228  2020-04-17     3430              Road Closure      3\n",
      "229  2020-04-17     3430                   Utility      1\n",
      "230  2020-04-18     2060             Environmental      1\n",
      "231  2020-04-18     2060          Public Awareness      1\n",
      "232  2020-04-18     2060              Road Closure      1\n",
      "233  2020-04-19     2256             Environmental      1\n",
      "234  2020-04-19     2256                      Fire      1\n",
      "235  2020-04-19     2256              Road Closure      2\n",
      "236  2020-04-20     3620             Public Health      2\n",
      "237  2020-04-20     3620              Road Closure      7\n",
      "238  2020-04-20     3620                   Weather      1\n",
      "239  2020-04-21     2838         Aerial (Fly-Over)      2\n",
      "240  2020-04-21     2838   Mass Transit Disruption      2\n",
      "241  2020-04-21     2838  Mass Transit Restoration      2\n",
      "242  2020-04-21     2838             Public Health      1\n",
      "243  2020-04-21     2838              Road Closure      2\n",
      "244  2020-04-21     2838                   Weather      6\n",
      "245  2020-04-22     2978             Environmental      1\n",
      "246  2020-04-22     2978             Public Health      2\n",
      "247  2020-04-22     2978              Road Closure      3\n",
      "248  2020-04-23     1509             Public Health      2\n",
      "249  2020-04-23     1509              Road Closure      3\n",
      "250  2020-04-24      251         Aerial (Fly-Over)      1\n",
      "251  2020-04-24      251             Environmental      1\n",
      "252  2020-04-24      251              Road Closure      2\n",
      "253  2020-04-25        5             Environmental      1\n",
      "254  2020-04-25        5             Public Health      1\n",
      "255  2020-04-25        5              Road Closure      2\n",
      "\n",
      "[256 rows x 4 columns]\n"
     ]
    }
   ],
   "source": [
    "merge_df = pd.merge(nyc_case_hosp, emc_type_count_df, on ='Date')\n",
    "print(merge_df)"
   ]
  },
  {
   "cell_type": "code",
   "execution_count": null,
   "metadata": {},
   "outputs": [],
   "source": []
  }
 ],
 "metadata": {
  "colab": {
   "authorship_tag": "ABX9TyNJ0vfaIL5GLxFXxyeaTgQW",
   "collapsed_sections": [],
   "name": "Untitled0.ipynb",
   "provenance": []
  },
  "kernelspec": {
   "display_name": "Python 3",
   "language": "python",
   "name": "python3"
  },
  "language_info": {
   "codemirror_mode": {
    "name": "ipython",
    "version": 3
   },
   "file_extension": ".py",
   "mimetype": "text/x-python",
   "name": "python",
   "nbconvert_exporter": "python",
   "pygments_lexer": "ipython3",
   "version": "3.7.3"
  }
 },
 "nbformat": 4,
 "nbformat_minor": 1
}
